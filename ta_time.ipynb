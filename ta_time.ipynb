{
 "cells": [
  {
   "cell_type": "code",
   "execution_count": 15,
   "id": "2089f343",
   "metadata": {},
   "outputs": [
    {
     "name": "stdout",
     "output_type": "stream",
     "text": [
      "test.txt\n"
     ]
    }
   ],
   "source": [
    "import pandas as pd\n",
    "\n",
    "a = \"test\"\n",
    "wb = a+\".txt\"\n",
    "#print(wb)\n",
    "\n",
    "f = open(wb,\"w\")\n",
    "\n",
    "#f.write(words)\n",
    "f.close()\n",
    "\n",
    "\n",
    "\n"
   ]
  },
  {
   "cell_type": "code",
   "execution_count": 17,
   "id": "c55269c7",
   "metadata": {},
   "outputs": [],
   "source": [
    "f = open(wb,\"w\")\n",
    "words = \"This is a hot summar.\"\n",
    "f.write(words)\n",
    "f.close()"
   ]
  },
  {
   "cell_type": "code",
   "execution_count": 19,
   "id": "b3c1a2ca",
   "metadata": {},
   "outputs": [],
   "source": [
    "f = open(wb,\"a\")\n",
    "words = \"\\nNot cold.\"\n",
    "f.write(words)\n",
    "f.close()"
   ]
  },
  {
   "cell_type": "code",
   "execution_count": 21,
   "id": "da01e138",
   "metadata": {},
   "outputs": [],
   "source": [
    "f = open(wb,\"w\")\n",
    "words = \"\\nNot cold.\"\n",
    "f.write(words)\n",
    "f.close()"
   ]
  }
 ],
 "metadata": {
  "kernelspec": {
   "display_name": "Python 3 (ipykernel)",
   "language": "python",
   "name": "python3"
  },
  "language_info": {
   "codemirror_mode": {
    "name": "ipython",
    "version": 3
   },
   "file_extension": ".py",
   "mimetype": "text/x-python",
   "name": "python",
   "nbconvert_exporter": "python",
   "pygments_lexer": "ipython3",
   "version": "3.9.7"
  }
 },
 "nbformat": 4,
 "nbformat_minor": 5
}
