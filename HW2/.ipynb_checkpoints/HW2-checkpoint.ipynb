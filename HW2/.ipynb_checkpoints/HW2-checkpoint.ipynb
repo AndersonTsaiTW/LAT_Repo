{
 "cells": [
  {
   "cell_type": "code",
   "execution_count": 6,
   "id": "1c5052cc",
   "metadata": {},
   "outputs": [
    {
     "name": "stdout",
     "output_type": "stream",
     "text": [
      "103\n",
      "104\n",
      "105\n",
      "106\n",
      "107\n",
      "108\n",
      "109\n",
      "110\n",
      "111\n",
      "<class 'pandas.core.frame.DataFrame'>\n",
      "RangeIndex: 4724 entries, 0 to 4723\n",
      "Data columns (total 16 columns):\n",
      " #   Column    Non-Null Count  Dtype  \n",
      "---  ------    --------------  -----  \n",
      " 0   學校代碼      4724 non-null   object \n",
      " 1   學校名稱      4724 non-null   object \n",
      " 2   專任教師數男    4724 non-null   int64  \n",
      " 3   專任教師數女    4724 non-null   int64  \n",
      " 4   兼任教師數男    4724 non-null   int64  \n",
      " 5   兼任教師數女    4724 non-null   int64  \n",
      " 6   職員數男      4724 non-null   int64  \n",
      " 7   職員數女      4724 non-null   int64  \n",
      " 8   班級數       4724 non-null   int64  \n",
      " 9   學生數男      4724 non-null   int64  \n",
      " 10  學生數女      4724 non-null   int64  \n",
      " 11  上學年畢業生數男  4724 non-null   int64  \n",
      " 12  上學年畢業生數女  4724 non-null   int64  \n",
      " 13  year      4724 non-null   object \n",
      " 14  縣市代碼      2115 non-null   float64\n",
      " 15  縣市名稱      2115 non-null   object \n",
      "dtypes: float64(1), int64(11), object(4)\n",
      "memory usage: 590.6+ KB\n"
     ]
    },
    {
     "data": {
      "text/plain": [
       "array(['103', '104', '105', '106', '107', '108', '109', '110', '111'],\n",
       "      dtype=object)"
      ]
     },
     "execution_count": 6,
     "metadata": {},
     "output_type": "execute_result"
    }
   ],
   "source": [
    "import pandas as pd\n",
    "\n",
    "base = pd.DataFrame()\n",
    "for i in range(103,112):\n",
    "    print(i)\n",
    "    temp = pd.read_csv(f\"{i}_base0.csv\",thousands=\",\")\n",
    "    temp['year'] = f\"{i}\"\n",
    "    base = pd.concat([base, temp], ignore_index=True)\n",
    "\n",
    "base.info()\n",
    "base['year'].unique()"
   ]
  },
  {
   "cell_type": "code",
   "execution_count": null,
   "id": "4a515e9e",
   "metadata": {},
   "outputs": [],
   "source": [
    "base109['teach_fulltime'] = base109['專任教師數男'] + base109['專任教師數女']\n",
    "base109['teach_parttime'] = base109['兼任教師數男'] + base109['兼任教師數女']\n",
    "base109['teach_all'] = base109['teach_fulltime'] + base109['teach_parttime']\n",
    "base109['emp'] = base109['職員數男'] + base109['職員數女']\n",
    "base109['stud'] = base109['學生數男'] + base109['學生數女']\n",
    "base109['grad'] = base109['上學年畢業生數男'] + base109['上學年畢業生數女']\n",
    "print(base109.tail())\n",
    "print(base109.info())"
   ]
  }
 ],
 "metadata": {
  "kernelspec": {
   "display_name": "Python 3 (ipykernel)",
   "language": "python",
   "name": "python3"
  },
  "language_info": {
   "codemirror_mode": {
    "name": "ipython",
    "version": 3
   },
   "file_extension": ".py",
   "mimetype": "text/x-python",
   "name": "python",
   "nbconvert_exporter": "python",
   "pygments_lexer": "ipython3",
   "version": "3.9.7"
  }
 },
 "nbformat": 4,
 "nbformat_minor": 5
}
