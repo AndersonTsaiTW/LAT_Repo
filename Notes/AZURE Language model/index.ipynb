{
 "cells": [
  {
   "cell_type": "code",
   "execution_count": null,
   "metadata": {},
   "outputs": [],
   "source": [
    "##ChatGPT認為可以改成的py版本\n",
    "\n",
    "from flask import Flask, request, abort\n",
    "from linebot import LineBotApi, WebhookHandler\n",
    "from linebot.exceptions import InvalidSignatureError\n",
    "from linebot.models import MessageEvent, TextMessage, TextSendMessage\n",
    "from azure.ai.textanalytics import TextAnalyticsClient\n",
    "from azure.core.credentials import AzureKeyCredential\n",
    "import os\n",
    "import configparser\n",
    "\n",
    "app = Flask(__name__)\n",
    "\n",
    "# Load config file\n",
    "config = configparser.ConfigParser()\n",
    "config.read('config.ini')\n",
    "\n",
    "# Line bot config\n",
    "line_bot_api = LineBotApi(config['line_bot']['channel_access_token'])\n",
    "handler = WebhookHandler(config['line_bot']['channel_secret'])\n",
    "\n",
    "# Azure Text Analytics config\n",
    "endpoint = config['text_analytics']['endpoint']\n",
    "api_key = config['text_analytics']['api_key']\n",
    "credentials = AzureKeyCredential(api_key)\n",
    "text_analytics_client = TextAnalyticsClient(endpoint=endpoint, credential=credentials)\n",
    "\n",
    "@app.route(\"/callback\", methods=['POST'])\n",
    "def callback():\n",
    "    signature = request.headers['X-Line-Signature']\n",
    "    body = request.get_data(as_text=True)\n",
    "    try:\n",
    "        handler.handle(body, signature)\n",
    "    except InvalidSignatureError:\n",
    "        abort(400)\n",
    "    return 'OK'\n",
    "\n",
    "@handler.add(MessageEvent, message=TextMessage)\n",
    "def handle_text_message(event):\n",
    "    text = event.message.text\n",
    "    documents = [text]\n",
    "    result = text_analytics_client.analyze_sentiment(documents)\n",
    "    sentiment = result[0].sentiment\n",
    "    line_bot_api.reply_message(\n",
    "        event.reply_token,\n",
    "        TextSendMessage(text=sentiment)\n",
    "    )\n",
    "\n",
    "if __name__ == \"__main__\":\n",
    "    port = int(os.environ.get('PORT', 5000))\n",
    "    app.run(host='0.0.0.0', port=port)\n"
   ]
  }
 ],
 "metadata": {
  "kernelspec": {
   "display_name": "Python 3.9.6 64-bit",
   "language": "python",
   "name": "python3"
  },
  "language_info": {
   "name": "python",
   "version": "3.9.6"
  },
  "orig_nbformat": 4,
  "vscode": {
   "interpreter": {
    "hash": "aee8b7b246df8f9039afb4144a1f6fd8d2ca17a180786b69acc140d282b71a49"
   }
  }
 },
 "nbformat": 4,
 "nbformat_minor": 2
}
