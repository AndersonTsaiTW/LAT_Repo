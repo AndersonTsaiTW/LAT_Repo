{
 "cells": [
  {
   "cell_type": "markdown",
   "id": "e6c7c37a",
   "metadata": {},
   "source": [
    "[Teacher's code](https://github.com/pecu/peculab/tree/main/ChatGPT)\n",
    "1. 讀入格式必須是prompt與competetion\n",
    "2. 選model"
   ]
  },
  {
   "cell_type": "code",
   "execution_count": null,
   "id": "7acbab4e",
   "metadata": {},
   "outputs": [],
   "source": [
    "\n",
    "!pip install --upgrade openai"
   ]
  }
 ],
 "metadata": {
  "kernelspec": {
   "display_name": "Python 3 (ipykernel)",
   "language": "python",
   "name": "python3"
  },
  "language_info": {
   "codemirror_mode": {
    "name": "ipython",
    "version": 3
   },
   "file_extension": ".py",
   "mimetype": "text/x-python",
   "name": "python",
   "nbconvert_exporter": "python",
   "pygments_lexer": "ipython3",
   "version": "3.9.7"
  }
 },
 "nbformat": 4,
 "nbformat_minor": 5
}
