{
 "cells": [
  {
   "cell_type": "code",
   "execution_count": 3,
   "id": "284b7573",
   "metadata": {},
   "outputs": [],
   "source": [
    "#!pip install openai\n",
    "import openai"
   ]
  },
  {
   "cell_type": "code",
   "execution_count": 13,
   "id": "e748fa59",
   "metadata": {},
   "outputs": [
    {
     "name": "stdout",
     "output_type": "stream",
     "text": [
      "0\n"
     ]
    }
   ],
   "source": [
    "with open('testwords.txt', 'r', encoding='utf-8') as fh:\n",
    "    tmp = fh.read()\n",
    "    itemlist = tmp.split(',')\n",
    "\n",
    "\n",
    "itemlist = str(itemlist)\n",
    "\n",
    "keyfile = open(\"/Users/anderson/Desktop/Data Science/OpenAI/key.txt\", \"r\")\n",
    "key = keyfile.readline()\n",
    "\n",
    "openai.api_key = key\n",
    "\n",
    "start_idx = 0\n",
    "result = ''\n",
    "while start_idx < len(itemlist):\n",
    "    end_idx = min(start_idx + 4000, len(itemlist))\n",
    "    sub_list = itemlist[start_idx:end_idx]\n",
    "    response = openai.ChatCompletion.create(\n",
    "        model=\"gpt-3.5-turbo\",\n",
    "        messages=[\n",
    "            {\"role\": \"system\", \"content\": \"You are a chatbot\"},\n",
    "            {\"role\": \"user\", \"content\": f\"提供以上文字之繁體中文摘要與英文翻譯：{sub_list}\"}\n",
    "        ]\n",
    "    )  \n",
    "    for choice in response.choices:\n",
    "        result += choice.message.content\n",
    "    print(start_idx)\n",
    "    start_idx = end_idx\n",
    "\n",
    "with open('output.txt', 'w', encoding='utf-8') as output_file:\n",
    "    output_file.write(result)"
   ]
  }
 ],
 "metadata": {
  "kernelspec": {
   "display_name": "Python 3 (ipykernel)",
   "language": "python",
   "name": "python3"
  },
  "language_info": {
   "codemirror_mode": {
    "name": "ipython",
    "version": 3
   },
   "file_extension": ".py",
   "mimetype": "text/x-python",
   "name": "python",
   "nbconvert_exporter": "python",
   "pygments_lexer": "ipython3",
   "version": "3.9.7"
  }
 },
 "nbformat": 4,
 "nbformat_minor": 5
}
